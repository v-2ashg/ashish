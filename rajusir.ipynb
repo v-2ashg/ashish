{
 "cells": [
  {
   "cell_type": "code",
   "execution_count": 1,
   "metadata": {},
   "outputs": [],
   "source": [
    "import pandas as pd\n",
    "import numpy as np # used for linear algebra and random sampling\n",
    "import matplotlib.pyplot as plt\n",
    "from ipywidgets import widgets, interactive, interact\n",
    "import matplotlib as mpl\n",
    "import seaborn as sns\n",
    "\n",
    "# used for plotting charts within the notebook (instead of a separate window)\n",
    "%matplotlib inline\n",
    "\n",
    "\n",
    "march = pd.read_csv('./March.csv', encoding='latin1')\n",
    "feb = pd.read_csv('./Feb.csv', encoding='latin1')\n"
   ]
  },
  {
   "cell_type": "code",
   "execution_count": 22,
   "metadata": {},
   "outputs": [],
   "source": [
    "march['Month']= 'March'\n",
    "feb['Month']= 'Feb'\n"
   ]
  },
  {
   "cell_type": "code",
   "execution_count": 3,
   "metadata": {},
   "outputs": [],
   "source": [
    "inc = pd.concat([march,feb],ignore_index=True )"
   ]
  },
  {
   "cell_type": "code",
   "execution_count": 4,
   "metadata": {},
   "outputs": [
    {
     "data": {
      "text/plain": [
       "17288"
      ]
     },
     "execution_count": 4,
     "metadata": {},
     "output_type": "execute_result"
    }
   ],
   "source": [
    "inc['Number'].count()"
   ]
  },
  {
   "cell_type": "code",
   "execution_count": 5,
   "metadata": {},
   "outputs": [
    {
     "name": "stdout",
     "output_type": "stream",
     "text": [
      "       Number\n",
      "Month        \n",
      "Feb      7005\n",
      "March   10283\n"
     ]
    },
    {
     "data": {
      "text/html": [
       "<div>\n",
       "<style scoped>\n",
       "    .dataframe tbody tr th:only-of-type {\n",
       "        vertical-align: middle;\n",
       "    }\n",
       "\n",
       "    .dataframe tbody tr th {\n",
       "        vertical-align: top;\n",
       "    }\n",
       "\n",
       "    .dataframe thead th {\n",
       "        text-align: right;\n",
       "    }\n",
       "</style>\n",
       "<table border=\"1\" class=\"dataframe\">\n",
       "  <thead>\n",
       "    <tr style=\"text-align: right;\">\n",
       "      <th></th>\n",
       "      <th>Number</th>\n",
       "    </tr>\n",
       "    <tr>\n",
       "      <th>Month</th>\n",
       "      <th></th>\n",
       "    </tr>\n",
       "  </thead>\n",
       "  <tbody>\n",
       "    <tr>\n",
       "      <th>Feb</th>\n",
       "      <td>347</td>\n",
       "    </tr>\n",
       "    <tr>\n",
       "      <th>March</th>\n",
       "      <td>448</td>\n",
       "    </tr>\n",
       "  </tbody>\n",
       "</table>\n",
       "</div>"
      ],
      "text/plain": [
       "       Number\n",
       "Month        \n",
       "Feb       347\n",
       "March     448"
      ]
     },
     "execution_count": 5,
     "metadata": {},
     "output_type": "execute_result"
    }
   ],
   "source": [
    "print(inc.groupby(['Month']).count()[['Number']])\n",
    "inc[inc['Priority'] == \"2 - High\"].groupby(['Month']).count()[['Number']]"
   ]
  },
  {
   "cell_type": "code",
   "execution_count": 6,
   "metadata": {},
   "outputs": [
    {
     "data": {
      "text/html": [
       "<div>\n",
       "<style scoped>\n",
       "    .dataframe tbody tr th:only-of-type {\n",
       "        vertical-align: middle;\n",
       "    }\n",
       "\n",
       "    .dataframe tbody tr th {\n",
       "        vertical-align: top;\n",
       "    }\n",
       "\n",
       "    .dataframe thead th {\n",
       "        text-align: right;\n",
       "    }\n",
       "</style>\n",
       "<table border=\"1\" class=\"dataframe\">\n",
       "  <thead>\n",
       "    <tr style=\"text-align: right;\">\n",
       "      <th></th>\n",
       "      <th>Number</th>\n",
       "      <th>Assignment group</th>\n",
       "      <th>Tracks</th>\n",
       "      <th>Created</th>\n",
       "      <th>State</th>\n",
       "      <th>Description</th>\n",
       "      <th>Short description</th>\n",
       "      <th>Impacted Configuration Item</th>\n",
       "      <th>GXP/Non-GXP</th>\n",
       "      <th>Resolution notes</th>\n",
       "      <th>...</th>\n",
       "      <th>Created by</th>\n",
       "      <th>Support Offering(OLA/UC)</th>\n",
       "      <th>Service offering (E2E SLA)</th>\n",
       "      <th>Last update</th>\n",
       "      <th>Resolved by</th>\n",
       "      <th>Work notes</th>\n",
       "      <th>Closed</th>\n",
       "      <th>Closed by</th>\n",
       "      <th>Business Application</th>\n",
       "      <th>Month</th>\n",
       "    </tr>\n",
       "    <tr>\n",
       "      <th>Priority</th>\n",
       "      <th></th>\n",
       "      <th></th>\n",
       "      <th></th>\n",
       "      <th></th>\n",
       "      <th></th>\n",
       "      <th></th>\n",
       "      <th></th>\n",
       "      <th></th>\n",
       "      <th></th>\n",
       "      <th></th>\n",
       "      <th></th>\n",
       "      <th></th>\n",
       "      <th></th>\n",
       "      <th></th>\n",
       "      <th></th>\n",
       "      <th></th>\n",
       "      <th></th>\n",
       "      <th></th>\n",
       "      <th></th>\n",
       "      <th></th>\n",
       "      <th></th>\n",
       "    </tr>\n",
       "  </thead>\n",
       "  <tbody>\n",
       "    <tr>\n",
       "      <th>1 - Critical</th>\n",
       "      <td>7</td>\n",
       "      <td>7</td>\n",
       "      <td>7</td>\n",
       "      <td>7</td>\n",
       "      <td>7</td>\n",
       "      <td>7</td>\n",
       "      <td>7</td>\n",
       "      <td>7</td>\n",
       "      <td>7</td>\n",
       "      <td>2</td>\n",
       "      <td>...</td>\n",
       "      <td>7</td>\n",
       "      <td>7</td>\n",
       "      <td>6</td>\n",
       "      <td>7</td>\n",
       "      <td>4</td>\n",
       "      <td>7</td>\n",
       "      <td>7</td>\n",
       "      <td>7</td>\n",
       "      <td>0</td>\n",
       "      <td>7</td>\n",
       "    </tr>\n",
       "    <tr>\n",
       "      <th>2 - High</th>\n",
       "      <td>795</td>\n",
       "      <td>795</td>\n",
       "      <td>795</td>\n",
       "      <td>795</td>\n",
       "      <td>795</td>\n",
       "      <td>795</td>\n",
       "      <td>795</td>\n",
       "      <td>795</td>\n",
       "      <td>795</td>\n",
       "      <td>447</td>\n",
       "      <td>...</td>\n",
       "      <td>795</td>\n",
       "      <td>795</td>\n",
       "      <td>97</td>\n",
       "      <td>795</td>\n",
       "      <td>792</td>\n",
       "      <td>734</td>\n",
       "      <td>795</td>\n",
       "      <td>795</td>\n",
       "      <td>0</td>\n",
       "      <td>795</td>\n",
       "    </tr>\n",
       "    <tr>\n",
       "      <th>3 - Moderate</th>\n",
       "      <td>14341</td>\n",
       "      <td>14341</td>\n",
       "      <td>14341</td>\n",
       "      <td>14341</td>\n",
       "      <td>14341</td>\n",
       "      <td>14340</td>\n",
       "      <td>14340</td>\n",
       "      <td>14341</td>\n",
       "      <td>14341</td>\n",
       "      <td>5454</td>\n",
       "      <td>...</td>\n",
       "      <td>14341</td>\n",
       "      <td>14341</td>\n",
       "      <td>2258</td>\n",
       "      <td>14341</td>\n",
       "      <td>14189</td>\n",
       "      <td>10766</td>\n",
       "      <td>14341</td>\n",
       "      <td>14341</td>\n",
       "      <td>0</td>\n",
       "      <td>14341</td>\n",
       "    </tr>\n",
       "    <tr>\n",
       "      <th>4 - Low</th>\n",
       "      <td>2145</td>\n",
       "      <td>2145</td>\n",
       "      <td>2145</td>\n",
       "      <td>2145</td>\n",
       "      <td>2145</td>\n",
       "      <td>2145</td>\n",
       "      <td>2145</td>\n",
       "      <td>2144</td>\n",
       "      <td>2145</td>\n",
       "      <td>1088</td>\n",
       "      <td>...</td>\n",
       "      <td>2145</td>\n",
       "      <td>2145</td>\n",
       "      <td>801</td>\n",
       "      <td>2145</td>\n",
       "      <td>2094</td>\n",
       "      <td>1961</td>\n",
       "      <td>2145</td>\n",
       "      <td>2145</td>\n",
       "      <td>0</td>\n",
       "      <td>2145</td>\n",
       "    </tr>\n",
       "  </tbody>\n",
       "</table>\n",
       "<p>4 rows × 22 columns</p>\n",
       "</div>"
      ],
      "text/plain": [
       "              Number  Assignment group  Tracks  Created  State  Description  \\\n",
       "Priority                                                                      \n",
       "1 - Critical       7                 7       7        7      7            7   \n",
       "2 - High         795               795     795      795    795          795   \n",
       "3 - Moderate   14341             14341   14341    14341  14341        14340   \n",
       "4 - Low         2145              2145    2145     2145   2145         2145   \n",
       "\n",
       "              Short description  Impacted Configuration Item  GXP/Non-GXP  \\\n",
       "Priority                                                                    \n",
       "1 - Critical                  7                            7            7   \n",
       "2 - High                    795                          795          795   \n",
       "3 - Moderate              14340                        14341        14341   \n",
       "4 - Low                    2145                         2144         2145   \n",
       "\n",
       "              Resolution notes  ...  Created by  Support Offering(OLA/UC)  \\\n",
       "Priority                        ...                                         \n",
       "1 - Critical                 2  ...           7                         7   \n",
       "2 - High                   447  ...         795                       795   \n",
       "3 - Moderate              5454  ...       14341                     14341   \n",
       "4 - Low                   1088  ...        2145                      2145   \n",
       "\n",
       "              Service offering (E2E SLA)  Last update  Resolved by  \\\n",
       "Priority                                                             \n",
       "1 - Critical                           6            7            4   \n",
       "2 - High                              97          795          792   \n",
       "3 - Moderate                        2258        14341        14189   \n",
       "4 - Low                              801         2145         2094   \n",
       "\n",
       "              Work notes  Closed  Closed by  Business Application  Month  \n",
       "Priority                                                                  \n",
       "1 - Critical           7       7          7                     0      7  \n",
       "2 - High             734     795        795                     0    795  \n",
       "3 - Moderate       10766   14341      14341                     0  14341  \n",
       "4 - Low             1961    2145       2145                     0   2145  \n",
       "\n",
       "[4 rows x 22 columns]"
      ]
     },
     "execution_count": 6,
     "metadata": {},
     "output_type": "execute_result"
    }
   ],
   "source": [
    "inc.groupby(['Priority']).count()\n"
   ]
  },
  {
   "cell_type": "code",
   "execution_count": 7,
   "metadata": {},
   "outputs": [
    {
     "data": {
      "text/html": [
       "<div>\n",
       "<style scoped>\n",
       "    .dataframe tbody tr th:only-of-type {\n",
       "        vertical-align: middle;\n",
       "    }\n",
       "\n",
       "    .dataframe tbody tr th {\n",
       "        vertical-align: top;\n",
       "    }\n",
       "\n",
       "    .dataframe thead th {\n",
       "        text-align: right;\n",
       "    }\n",
       "</style>\n",
       "<table border=\"1\" class=\"dataframe\">\n",
       "  <thead>\n",
       "    <tr style=\"text-align: right;\">\n",
       "      <th></th>\n",
       "      <th>Number</th>\n",
       "      <th>Assignment group</th>\n",
       "      <th>Tracks</th>\n",
       "      <th>Priority</th>\n",
       "      <th>Created</th>\n",
       "      <th>State</th>\n",
       "      <th>Description</th>\n",
       "      <th>Short description</th>\n",
       "      <th>Impacted Configuration Item</th>\n",
       "      <th>GXP/Non-GXP</th>\n",
       "      <th>...</th>\n",
       "      <th>User Impacted</th>\n",
       "      <th>Created by</th>\n",
       "      <th>Support Offering(OLA/UC)</th>\n",
       "      <th>Service offering (E2E SLA)</th>\n",
       "      <th>Last update</th>\n",
       "      <th>Resolved by</th>\n",
       "      <th>Work notes</th>\n",
       "      <th>Closed</th>\n",
       "      <th>Closed by</th>\n",
       "      <th>Business Application</th>\n",
       "    </tr>\n",
       "    <tr>\n",
       "      <th>Month</th>\n",
       "      <th></th>\n",
       "      <th></th>\n",
       "      <th></th>\n",
       "      <th></th>\n",
       "      <th></th>\n",
       "      <th></th>\n",
       "      <th></th>\n",
       "      <th></th>\n",
       "      <th></th>\n",
       "      <th></th>\n",
       "      <th></th>\n",
       "      <th></th>\n",
       "      <th></th>\n",
       "      <th></th>\n",
       "      <th></th>\n",
       "      <th></th>\n",
       "      <th></th>\n",
       "      <th></th>\n",
       "      <th></th>\n",
       "      <th></th>\n",
       "      <th></th>\n",
       "    </tr>\n",
       "  </thead>\n",
       "  <tbody>\n",
       "    <tr>\n",
       "      <th>Feb</th>\n",
       "      <td>7005</td>\n",
       "      <td>7005</td>\n",
       "      <td>7005</td>\n",
       "      <td>7005</td>\n",
       "      <td>7005</td>\n",
       "      <td>7005</td>\n",
       "      <td>7005</td>\n",
       "      <td>7005</td>\n",
       "      <td>7005</td>\n",
       "      <td>7005</td>\n",
       "      <td>...</td>\n",
       "      <td>7004</td>\n",
       "      <td>7005</td>\n",
       "      <td>7005</td>\n",
       "      <td>1589</td>\n",
       "      <td>7005</td>\n",
       "      <td>6890</td>\n",
       "      <td>6069</td>\n",
       "      <td>7005</td>\n",
       "      <td>7005</td>\n",
       "      <td>0</td>\n",
       "    </tr>\n",
       "    <tr>\n",
       "      <th>March</th>\n",
       "      <td>10283</td>\n",
       "      <td>10283</td>\n",
       "      <td>10283</td>\n",
       "      <td>10283</td>\n",
       "      <td>10283</td>\n",
       "      <td>10283</td>\n",
       "      <td>10282</td>\n",
       "      <td>10282</td>\n",
       "      <td>10282</td>\n",
       "      <td>10283</td>\n",
       "      <td>...</td>\n",
       "      <td>10281</td>\n",
       "      <td>10283</td>\n",
       "      <td>10283</td>\n",
       "      <td>1573</td>\n",
       "      <td>10283</td>\n",
       "      <td>10189</td>\n",
       "      <td>7399</td>\n",
       "      <td>10283</td>\n",
       "      <td>10283</td>\n",
       "      <td>0</td>\n",
       "    </tr>\n",
       "  </tbody>\n",
       "</table>\n",
       "<p>2 rows × 22 columns</p>\n",
       "</div>"
      ],
      "text/plain": [
       "       Number  Assignment group  Tracks  Priority  Created  State  \\\n",
       "Month                                                               \n",
       "Feb      7005              7005    7005      7005     7005   7005   \n",
       "March   10283             10283   10283     10283    10283  10283   \n",
       "\n",
       "       Description  Short description  Impacted Configuration Item  \\\n",
       "Month                                                                \n",
       "Feb           7005               7005                         7005   \n",
       "March        10282              10282                        10282   \n",
       "\n",
       "       GXP/Non-GXP  ...  User Impacted  Created by  Support Offering(OLA/UC)  \\\n",
       "Month               ...                                                        \n",
       "Feb           7005  ...           7004        7005                      7005   \n",
       "March        10283  ...          10281       10283                     10283   \n",
       "\n",
       "       Service offering (E2E SLA)  Last update  Resolved by  Work notes  \\\n",
       "Month                                                                     \n",
       "Feb                          1589         7005         6890        6069   \n",
       "March                        1573        10283        10189        7399   \n",
       "\n",
       "       Closed  Closed by  Business Application  \n",
       "Month                                           \n",
       "Feb      7005       7005                     0  \n",
       "March   10283      10283                     0  \n",
       "\n",
       "[2 rows x 22 columns]"
      ]
     },
     "execution_count": 7,
     "metadata": {},
     "output_type": "execute_result"
    }
   ],
   "source": [
    "inc.groupby(['Month']).count()\n"
   ]
  },
  {
   "cell_type": "code",
   "execution_count": 8,
   "metadata": {},
   "outputs": [
    {
     "data": {
      "text/plain": [
       "March    10283\n",
       "Feb       7005\n",
       "Name: Month, dtype: int64"
      ]
     },
     "execution_count": 8,
     "metadata": {},
     "output_type": "execute_result"
    }
   ],
   "source": [
    "inc['Month'].value_counts()"
   ]
  },
  {
   "cell_type": "code",
   "execution_count": 9,
   "metadata": {},
   "outputs": [
    {
     "data": {
      "text/plain": [
       "Text(0.5, 1.0, 'Incident trent for windows')"
      ]
     },
     "execution_count": 9,
     "metadata": {},
     "output_type": "execute_result"
    },
    {
     "data": {
      "image/png": "[encoded data removed]",
      "text/plain": [
       "<Figure size 432x288 with 1 Axes>"
      ]
     },
     "metadata": {
      "needs_background": "light"
     },
     "output_type": "display_data"
    }
   ],
   "source": [
    "#incident count per month\n",
    "inc['Month'].value_counts().plot(kind='bar')\n",
    "\n",
    "# name the axis\n",
    "plt.ylabel('count of incidents')\n",
    "plt.xlabel('Month')\n",
    "plt.title('Incident trent for windows')\n"
   ]
  },
  {
   "cell_type": "code",
   "execution_count": 10,
   "metadata": {},
   "outputs": [
    {
     "data": {
      "text/plain": [
       "<matplotlib.axes._subplots.AxesSubplot at 0x1d5cb9e9688>"
      ]
     },
     "execution_count": 10,
     "metadata": {},
     "output_type": "execute_result"
    },
    {
     "data": {
      "image/png": "[encoded data removed]",
      "text/plain": [
       "<Figure size 432x288 with 1 Axes>"
      ]
     },
     "metadata": {
      "needs_background": "light"
     },
     "output_type": "display_data"
    }
   ],
   "source": [
    "axes1 = plt.gca()\n",
    "axes1"
   ]
  },
  {
   "cell_type": "code",
   "execution_count": 11,
   "metadata": {},
   "outputs": [
    {
     "data": {
      "text/plain": [
       "<matplotlib.axes._subplots.AxesSubplot at 0x1d5cc47ca08>"
      ]
     },
     "execution_count": 11,
     "metadata": {},
     "output_type": "execute_result"
    },
    {
     "data": {
      "image/png": "[encoded data removed]",
      "text/plain": [
       "<Figure size 432x288 with 1 Axes>"
      ]
     },
     "metadata": {
      "needs_background": "light"
     },
     "output_type": "display_data"
    }
   ],
   "source": [
    "#incident count per month\n",
    "inc['Month'].value_counts().plot(kind='hist', x='Month',y=0)"
   ]
  },
  {
   "cell_type": "code",
   "execution_count": 12,
   "metadata": {},
   "outputs": [
    {
     "data": {
      "image/png": "[encoded data removed]",
      "text/plain": [
       "<Figure size 432x288 with 1 Axes>"
      ]
     },
     "metadata": {
      "needs_background": "light"
     },
     "output_type": "display_data"
    }
   ],
   "source": [
    "width = .20   \n",
    "inc['Month'].value_counts().plot(kind='bar',position=0, width = width)\n",
    "inc[inc['Priority'] == \"2 - High\"]['Priority'].value_counts().plot(kind='bar',color='skyblue', position=1, width = width)\n",
    "plt.show()"
   ]
  },
  {
   "cell_type": "code",
   "execution_count": 13,
   "metadata": {},
   "outputs": [
    {
     "data": {
      "image/png": "[encoded data removed]",
      "text/plain": [
       "<Figure size 432x288 with 1 Axes>"
      ]
     },
     "metadata": {
      "needs_background": "light"
     },
     "output_type": "display_data"
    }
   ],
   "source": [
    "\n",
    "width = .20   \n",
    "inc.groupby(['Month']).count()['Number'].plot(kind='bar',color='red',position=0, width = width)\n",
    "inc[inc['Priority'] == \"2 - High\"].groupby(['Month']).count()['Number'].plot(kind='bar',color='skyblue', position=1, width = width)\n",
    "plt.legend()\n",
    "plt.show()"
   ]
  },
  {
   "cell_type": "code",
   "execution_count": 14,
   "metadata": {
    "scrolled": true
   },
   "outputs": [
    {
     "data": {
      "image/png": "[encoded data removed]",
      "text/plain": [
       "<Figure size 432x288 with 1 Axes>"
      ]
     },
     "metadata": {
      "needs_background": "light"
     },
     "output_type": "display_data"
    }
   ],
   "source": [
    "### keeping the y axis same that is number for multiple x axis.\n",
    "width = .10 \n",
    "ax= inc.groupby(['Month']).count()['Number']\n",
    "ax.plot(kind='bar',color='red',position=0, width = width, label='Total Count')\n",
    "inc[inc['Priority'] == \"2 - High\"].groupby(['Month']).count()['Number'].plot(kind='bar',color='skyblue', position=1, width = width, label='sev 2')\n",
    "plt.legend()\n",
    "plt.show()"
   ]
  },
  {
   "cell_type": "code",
   "execution_count": null,
   "metadata": {},
   "outputs": [],
   "source": []
  },
  {
   "cell_type": "code",
   "execution_count": 15,
   "metadata": {},
   "outputs": [
    {
     "data": {
      "text/plain": [
       "['Antivirus',\n",
       " 'AS400',\n",
       " 'Backup',\n",
       " 'Commandcenter',\n",
       " 'Control M',\n",
       " 'Database',\n",
       " 'Middleware',\n",
       " 'VCC',\n",
       " 'Public Cloud',\n",
       " 'Rhythm',\n",
       " 'SIS',\n",
       " 'Storage',\n",
       " 'Unix',\n",
       " 'WAF',\n",
       " 'WAN',\n",
       " 'Windows',\n",
       " 'WOS',\n",
       " 'HPC']"
      ]
     },
     "execution_count": 15,
     "metadata": {},
     "output_type": "execute_result"
    }
   ],
   "source": [
    "list(inc['Tracks'].unique())"
   ]
  },
  {
   "cell_type": "code",
   "execution_count": 16,
   "metadata": {
    "scrolled": true
   },
   "outputs": [
    {
     "data": {
      "application/vnd.jupyter.widget-view+json": {
       "model_id": "d7676e14083d43d182cb9abacdf7385f",
       "version_major": 2,
       "version_minor": 0
      },
      "text/plain": [
       "interactive(children=(Dropdown(description='test:', index=16, options=('All', 'Antivirus', 'AS400', 'Backup', …"
      ]
     },
     "metadata": {},
     "output_type": "display_data"
    }
   ],
   "source": [
    "#### way 1: to use widget\n",
    "\n",
    "track = widgets.Dropdown(\n",
    "    options=['All'] + list(inc['Tracks'].unique()),\n",
    "    value='Windows',\n",
    "    description='test:',\n",
    "    disabled=False,\n",
    ")\n",
    "## similarly we can have dropdown for priority.\n",
    "def plotit(track):\n",
    "    inc2 = inc.copy()\n",
    "    if track != 'All':\n",
    "        inc2 = inc2[inc2['Tracks'] == track]\n",
    "    inc2.groupby(['Month']).count()['Number'].plot(kind='bar',color='red',position=0, width = width, label='Total Count',stacked=True)\n",
    "    inc2[inc2['Priority'] == \"2 - High\"].groupby(['Month']).count()['Number'].plot(kind='bar',color='skyblue', position=1, width = width, label='sev 2',stacked=True)\n",
    "    plt.legend()\n",
    "    plt.show()\n",
    "    #print(track)\n",
    "    \n",
    "widgets.interactive(plotit, track= track)\n"
   ]
  },
  {
   "cell_type": "code",
   "execution_count": 23,
   "metadata": {},
   "outputs": [],
   "source": [
    "### way 2 to use widget\n",
    "### The dropdown widget exposes the observe method, which takes a function that will be invoked when the value of the dropdown changes. As such, we will next create the observer handler to filter the dataframe by the selected values — note that the input argument of the handler, change, contains information about the changes that took place which allows us to access the new value (change.new).\n",
    "## If the new value is ALL we remove the filter, otherwise we apply it:\n",
    "\n",
    "track = widgets.Dropdown(\n",
    "    options=['All'] + list(inc['Tracks'].unique()),\n",
    "    value='Unix',\n",
    "    description='test:',\n",
    "    disabled=False,\n",
    ")\n",
    "def plotit(change):\n",
    "    inc2 = inc.copy()\n",
    "    if change.new != 'All':\n",
    "        inc2 = inc2[inc2['Tracks'] == change.new]\n",
    "    inc2.groupby(['Month']).count()['Number'].plot(kind='bar',color='red',position=0, width = width, label='Total Count',stacked=True)\n",
    "    inc2[inc2['Priority'] == \"2 - High\"].groupby(['Month']).count()['Number'].plot(kind='bar',color='skyblue', position=1, width = width, label='sev 2',stacked=True)\n",
    "    plt.legend()\n",
    "    plt.show()\n",
    "    #print(track)\n",
    "    \n",
    "#display(track)\n",
    "#interactive(plotit, track= track)\n",
    "track.observe(plotit, names='value')\n",
    "\n",
    "\n"
   ]
  },
  {
   "cell_type": "code",
   "execution_count": 18,
   "metadata": {},
   "outputs": [
    {
     "data": {
      "application/vnd.jupyter.widget-view+json": {
       "model_id": "d67b30d369824db890b302ce275357c2",
       "version_major": 2,
       "version_minor": 0
      },
      "text/plain": [
       "Dropdown(description='test:', index=16, options=('All', 'Antivirus', 'AS400', 'Backup', 'Commandcenter', 'Cont…"
      ]
     },
     "metadata": {},
     "output_type": "display_data"
    }
   ],
   "source": [
    "track = widgets.Dropdown(\n",
    "    options=['All'] + list(inc['Tracks'].unique()),\n",
    "    value='Windows',\n",
    "    description='test:',\n",
    "    disabled=False,\n",
    ")\n",
    "\n",
    "display(track)"
   ]
  },
  {
   "cell_type": "code",
   "execution_count": 19,
   "metadata": {},
   "outputs": [],
   "source": [
    "from IPython.display import display"
   ]
  },
  {
   "cell_type": "code",
   "execution_count": 20,
   "metadata": {},
   "outputs": [
    {
     "data": {
      "application/vnd.jupyter.widget-view+json": {
       "model_id": "d3fd9011b81848368d300ada520661b1",
       "version_major": 2,
       "version_minor": 0
      },
      "text/plain": [
       "IntSlider(value=3, description='Slider:', max=10)"
      ]
     },
     "metadata": {},
     "output_type": "display_data"
    }
   ],
   "source": [
    "slider = widgets.IntSlider(\n",
    "    min=0,\n",
    "    max=10,\n",
    "    step=1,\n",
    "    description='Slider:',\n",
    "    value=3\n",
    ")\n",
    "#slider = widgets.IntSlider()\n",
    "display(slider)"
   ]
  },
  {
   "cell_type": "code",
   "execution_count": 21,
   "metadata": {},
   "outputs": [
    {
     "data": {
      "text/plain": [
       "ipywidgets.widgets.widget_int.IntSlider"
      ]
     },
     "execution_count": 21,
     "metadata": {},
     "output_type": "execute_result"
    }
   ],
   "source": [
    "type(slider)"
   ]
  },
  {
   "cell_type": "code",
   "execution_count": null,
   "metadata": {},
   "outputs": [],
   "source": []
  }
 ],
 "metadata": {
  "kernelspec": {
   "display_name": "Python 3",
   "language": "python",
   "name": "python3"
  },
  "language_info": {
   "codemirror_mode": {
    "name": "ipython",
    "version": 3
   },
   "file_extension": ".py",
   "mimetype": "text/x-python",
   "name": "python",
   "nbconvert_exporter": "python",
   "pygments_lexer": "ipython3",
   "version": "3.7.6"
  }
 },
 "nbformat": 4,
 "nbformat_minor": 4
}
